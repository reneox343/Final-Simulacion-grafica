{
 "cells": [
  {
   "attachments": {},
   "cell_type": "markdown",
   "metadata": {},
   "source": [
    "# Multinomial logistic regression\n",
    "\n",
    "Multinomial logistic regression is used to predict categorical placement in or the probability of category membership on a dependent variable based on multiple independent variables. The independent variables can be either dichotomous (i.e., binary) or continuous (i.e., interval or ratio in scale). Multinomial logistic regression is a simple extension of binary logistic regression that allows for more than two categories of the dependent or outcome variable. Like binary logistic regression, multinomial logistic regression uses maximum likelihood estimation to evaluate the probability of categorical membership.   \n",
    "\n",
    "Multinomial logistic regression does necessitate careful consideration of the sample size and examination for outlying cases. Like other data analysis procedures, initial data analysis should be thorough and include careful univariate, bivariate, and multivariate assessment. Specifically, multicollinearity should be evaluated with simple correlations among the independent variables. Also, multivariate diagnostics (i.e. standard multiple regression) can be used to assess for multivariate outliers and for the exclusion of outliers or influential cases. Sample size guidelines for multinomial logistic regression indicate a minimum of 10 cases per independent variable (Schwab, 2002).  "
   ]
  },
  {
   "cell_type": "code",
   "execution_count": 3,
   "metadata": {},
   "outputs": [],
   "source": [
    "import copy, math\n",
    "import numpy as np\n",
    "import pandas as pd\n",
    "import csv\n",
    "import ast\n",
    "%matplotlib widget\n",
    "import matplotlib.pyplot as plt\n",
    "from ipywidgets import Output\n",
    "from plt_overfit import overfit_example, output\n",
    "from lab_utils_logistic import sigmoid\n",
    "from features import *\n",
    "import cv2\n",
    "# plt.style.use('./deeplearning.mplstyle')"
   ]
  },
  {
   "attachments": {},
   "cell_type": "markdown",
   "metadata": {},
   "source": [
    "As any of the other regression algorithms we need a cost function, a gradient function and finally we will use it to do our approximation with the gradient descent algorithm."
   ]
  },
  {
   "attachments": {},
   "cell_type": "markdown",
   "metadata": {},
   "source": [
    "### Cost function (logistic)\n",
    "_____\n",
    "\n",
    "We will reuse the same cost function that we developed for binary logistic regression"
   ]
  },
  {
   "cell_type": "code",
   "execution_count": 4,
   "metadata": {},
   "outputs": [],
   "source": [
    "def compute_cost_logistic_reg(X, y, w, b, lambda_ = 1):\n",
    "    \"\"\"\n",
    "    Computes the cost over all examples\n",
    "    Args:\n",
    "    Args:\n",
    "      X (ndarray (m,n): Data, m examples with n features\n",
    "      y (ndarray (m,)): target values\n",
    "      w (ndarray (n,)): model parameters  \n",
    "      b (scalar)      : model parameter\n",
    "      lambda_ (scalar): Controls amount of regularization\n",
    "    Returns:\n",
    "      total_cost (scalar):  cost \n",
    "    \"\"\"\n",
    "\n",
    "    m,n  = X.shape\n",
    "    cost = 0.\n",
    "    for i in range(m):\n",
    "        z_i = np.dot(X[i], w) + b                                      #(n,)(n,)=scalar, see np.dot\n",
    "        f_wb_i = sigmoid(z_i)                                          #scalar\n",
    "        cost +=  -y[i]*np.log(f_wb_i) - (1-y[i])*np.log(1-f_wb_i)      #scalar\n",
    "             \n",
    "    cost = cost/m                                                      #scalar\n",
    "\n",
    "    reg_cost = 0\n",
    "    for j in range(n):\n",
    "        reg_cost += (w[j]**2)                                          #scalar\n",
    "    reg_cost = (lambda_/(2*m)) * reg_cost                              #scalar\n",
    "    \n",
    "    total_cost = cost + reg_cost                                       #scalar\n",
    "    return total_cost    "
   ]
  },
  {
   "attachments": {},
   "cell_type": "markdown",
   "metadata": {},
   "source": [
    "Let´s test it just to make sure it is as expected."
   ]
  },
  {
   "cell_type": "code",
   "execution_count": 5,
   "metadata": {},
   "outputs": [
    {
     "name": "stdout",
     "output_type": "stream",
     "text": [
      "Regularized cost: 0.6850849138741673\n"
     ]
    }
   ],
   "source": [
    "np.random.seed(1)\n",
    "X_tmp = np.random.rand(5,6)\n",
    "y_tmp = np.array([0,1,0,1,0])\n",
    "w_tmp = np.random.rand(X_tmp.shape[1]).reshape(-1,)-0.5\n",
    "b_tmp = 0.5\n",
    "lambda_tmp = 0.7\n",
    "cost_tmp = compute_cost_logistic_reg(X_tmp, y_tmp, w_tmp, b_tmp, lambda_tmp)\n",
    "\n",
    "print(\"Regularized cost:\", cost_tmp)"
   ]
  },
  {
   "attachments": {},
   "cell_type": "markdown",
   "metadata": {},
   "source": [
    "### Gradient function (logistic)\n",
    "_____\n",
    "We will also reuse the gradient function"
   ]
  },
  {
   "cell_type": "code",
   "execution_count": 6,
   "metadata": {},
   "outputs": [],
   "source": [
    "def compute_gradient_logistic_reg(X, y, w, b, lambda_): \n",
    "    \"\"\"\n",
    "    Computes the gradient for linear regression \n",
    " \n",
    "    Args:\n",
    "      X (ndarray (m,n): Data, m examples with n features\n",
    "      y (ndarray (m,)): target values\n",
    "      w (ndarray (n,)): model parameters  \n",
    "      b (scalar)      : model parameter\n",
    "      lambda_ (scalar): Controls amount of regularization\n",
    "    Returns\n",
    "      dj_dw (ndarray Shape (n,)): The gradient of the cost w.r.t. the parameters w. \n",
    "      dj_db (scalar)            : The gradient of the cost w.r.t. the parameter b. \n",
    "    \"\"\"\n",
    "    m,n = X.shape\n",
    "    dj_dw = np.zeros((n,))                            #(n,)\n",
    "    dj_db = 0.0                                       #scalar\n",
    "\n",
    "    for i in range(m):\n",
    "        f_wb_i = sigmoid(np.dot(X[i],w) + b)          #(n,)(n,)=scalar\n",
    "        err_i  = f_wb_i  - y[i]                       #scalar\n",
    "        for j in range(n):\n",
    "            dj_dw[j] = dj_dw[j] + err_i * X[i,j]      #scalar\n",
    "        dj_db = dj_db + err_i\n",
    "    dj_dw = dj_dw/m                                   #(n,)\n",
    "    dj_db = dj_db/m                                   #scalar\n",
    "\n",
    "    for j in range(n):\n",
    "        dj_dw[j] = dj_dw[j] + (lambda_/m) * w[j]\n",
    "\n",
    "    return dj_db, dj_dw  "
   ]
  },
  {
   "attachments": {},
   "cell_type": "markdown",
   "metadata": {},
   "source": [
    "Let's also test it."
   ]
  },
  {
   "cell_type": "code",
   "execution_count": 7,
   "metadata": {},
   "outputs": [
    {
     "name": "stdout",
     "output_type": "stream",
     "text": [
      "dj_db: 0.341798994972791\n",
      "Regularized dj_dw:\n",
      " [0.17380012933994293, 0.32007507881566943, 0.10776313396851499]\n"
     ]
    }
   ],
   "source": [
    "np.random.seed(1)\n",
    "X_tmp = np.random.rand(5,3)\n",
    "y_tmp = np.array([0,1,0,1,0])\n",
    "w_tmp = np.random.rand(X_tmp.shape[1])\n",
    "b_tmp = 0.5\n",
    "lambda_tmp = 0.7\n",
    "dj_db_tmp, dj_dw_tmp = compute_gradient_logistic_reg(X_tmp, y_tmp, w_tmp, b_tmp, lambda_tmp)\n",
    "\n",
    "print(f\"dj_db: {dj_db_tmp}\", )\n",
    "print(f\"Regularized dj_dw:\\n {dj_dw_tmp.tolist()}\", )"
   ]
  },
  {
   "attachments": {},
   "cell_type": "markdown",
   "metadata": {},
   "source": [
    "### Gradient descent \n",
    "_____"
   ]
  },
  {
   "cell_type": "code",
   "execution_count": 8,
   "metadata": {},
   "outputs": [],
   "source": [
    "def gradient_descent(X, y, w_in, b_in, alpha, r_lambda, num_iters): \n",
    "    \"\"\"\n",
    "    Performs batch gradient descent\n",
    "    \n",
    "    Args:\n",
    "      X (ndarray (m,n)   : Data, m examples with n features\n",
    "      y (ndarray (m,))   : target values\n",
    "      w_in (ndarray (n,)): Initial values of model parameters  \n",
    "      b_in (scalar)      : Initial values of model parameter\n",
    "      alpha (float)      : Learning rate\n",
    "      r_lambda (float)     : Regularization rate\n",
    "      num_iters (scalar) : number of iterations to run gradient descent\n",
    "      \n",
    "    Returns:\n",
    "      w (ndarray (n,))   : Updated values of parameters\n",
    "      b (scalar)         : Updated value of parameter \n",
    "    \"\"\"\n",
    "    # An array to store cost J and w's at each iteration primarily for graphing later\n",
    "    J_history = []\n",
    "    w = copy.deepcopy(w_in)  #avoid modifying global w within function\n",
    "    b = b_in\n",
    "    \n",
    "    for i in range(num_iters):\n",
    "        # Calculate the gradient and update the parameters\n",
    "        dj_db, dj_dw = compute_gradient_logistic_reg(X, y, w, b, r_lambda)   \n",
    "\n",
    "        # Update Parameters using w, b, alpha and gradient\n",
    "        w = w - alpha * dj_dw               \n",
    "        b = b - alpha * dj_db               \n",
    "      \n",
    "        # Save cost J at each iteration\n",
    "        if i<100000:      # prevent resource exhaustion \n",
    "            J_history.append( compute_cost_logistic_reg(X, y, w, b, r_lambda) )\n",
    "\n",
    "        # Print cost every at intervals 10 times or as many iterations if < 10\n",
    "        if i% math.ceil(num_iters / 10) == 0:\n",
    "            print(f\"Iteration {i:4d}: Cost {J_history[-1]}   \")\n",
    "        \n",
    "    return w, b, J_history"
   ]
  },
  {
   "cell_type": "code",
   "execution_count": 9,
   "metadata": {},
   "outputs": [
    {
     "name": "stdout",
     "output_type": "stream",
     "text": [
      "Iteration    0: Cost 12.739934913837264   \n",
      "Iteration 1000: Cost 0.281653557844575   \n",
      "Iteration 2000: Cost 0.2805544529528461   \n",
      "Iteration 3000: Cost 0.28001755576326876   \n",
      "Iteration 4000: Cost 0.2797552637963744   \n",
      "Iteration 5000: Cost 0.2796271167365323   \n",
      "Iteration 6000: Cost 0.27956450532341226   \n",
      "Iteration 7000: Cost 0.2795339129360169   \n",
      "Iteration 8000: Cost 0.27951896491109185   \n",
      "Iteration 9000: Cost 0.2795116608954348   \n",
      "\n",
      "updated parameters: w:[-0.02  0.42 -0.    0.02  0.13 -0.13 -0.06 -0.43 -0.1   0.01  0.08 -0.1\n",
      "  0.07 -0.05 -0.1   0.16  0.11 -0.1   0.14 -0.16  0.09 -0.31 -0.1   0.03\n",
      "  0.16  0.06  0.05 -0.01  0.12  0.01  0.09 -0.15  0.28 -0.27  0.22 -0.06\n",
      "  0.11 -0.09  0.15 -0.04  0.06 -0.23 -0.08 -0.03 -0.14 -0.19  0.2   0.2\n",
      "  0.19 -0.01 -0.   -0.29  0.05  0.02  0.02  0.08 -0.04  0.02 -0.06  0.11\n",
      "  0.13 -0.12 -0.15 -0.06  0.03  0.17  0.14 -0.23  0.19 -0.31 -0.21 -0.11\n",
      " -0.04  0.1   0.03 -0.29 -0.14  0.13 -0.05  0.29 -0.01 -0.18 -0.13 -0.09\n",
      " -0.39 -0.1  -0.06  0.11  0.25 -0.15 -0.26 -0.13 -0.12 -0.02 -0.01  0.13\n",
      "  0.35 -0.03  0.03 -0.25], b:1.1413258731418698\n"
     ]
    }
   ],
   "source": [
    "x_train = np.random.rand(7,100)\n",
    "y_train = np.array([0, 0, 0, 1, 1, 1, 1])\n",
    "\n",
    "w_in = np.random.rand(x_train.shape[1])\n",
    "b_in = 0.5\n",
    "\n",
    "alph = 0.1\n",
    "r_lambda = 0.7\n",
    "iters = 10000\n",
    "\n",
    "w_out, b_out, _ = gradient_descent(x_train, y_train, w_in, b_in, alph, r_lambda, iters) \n",
    "print(f\"\\nupdated parameters: w:{w_out}, b:{b_out}\")"
   ]
  },
  {
   "attachments": {},
   "cell_type": "markdown",
   "metadata": {},
   "source": [
    "## The changes"
   ]
  },
  {
   "attachments": {},
   "cell_type": "markdown",
   "metadata": {},
   "source": [
    "The implementation of Multiclass classification follows the same ideas as the binary classification. In multi-class classification, we have more than two classes. Here is an example. Say, we have different features and characteristics of cars, trucks, bikes, and boats as input features. Our job is to predict the label(car, truck, bike, or boat). We will treat each class as a binary classification problem; this approach is called the __one vs all method__.\n",
    "\n",
    "In the one vs all method, when we work with a class, that class is denoted by 1 and the rest of the classes becomes 0. For example, if we have four classes: cars, trucks, bikes, and boats. When we will work on the car, we will use the car as 1 and the rest of the classes as zeros. Again, when we will work on the truck, the element of the truck will be one, and the rest of the classes will be zeros\n",
    "\n",
    "| Car | Truck | Bike | Boat |\n",
    "| --- | --- | --- | --- |\n",
    "| 1 | 0 | 0 | 0 |\n",
    "| 0 | 1 | 0 | 0 |\n",
    "| 0 | 0 | 1 | 0 |\n",
    "| 0 | 0 | 0 | 1 |\n",
    "\n",
    "\n",
    "We will make one column for each of the classes with the same length as y. When the class is truck, we will make a column that has 1 for the rows with trucks and 0 otherwise.\n",
    "\n",
    "We will create a function that will produce a temporary y vector that will only have 1's for the selected class, and 0's for the rest."
   ]
  },
  {
   "cell_type": "code",
   "execution_count": 10,
   "metadata": {},
   "outputs": [],
   "source": [
    "def y_change(y, cl):\n",
    "    \"\"\"\n",
    "    Creates an independent y vector that only holds 1's for\n",
    "    the selected class and zero for the rest\n",
    "    \n",
    "    Args:\n",
    "      y (ndarray (m,)) : target values\n",
    "      cl (scalar)      : The class we are studying.\n",
    "      \n",
    "    Returns:\n",
    "      y_pr (ndarray (n,))   : Array holding only 1's for the \n",
    "                              analyzed class.\n",
    "    \"\"\"\n",
    "    y_pr=[]\n",
    "    for i in range(0, len(y)):\n",
    "        if y[i] == cl:\n",
    "            y_pr.append(1)\n",
    "        else:\n",
    "            y_pr.append(0)\n",
    "    return y_pr"
   ]
  },
  {
   "attachments": {},
   "cell_type": "markdown",
   "metadata": {},
   "source": [
    "We will create a function that will produce the w values that will separate the i-th class"
   ]
  },
  {
   "cell_type": "code",
   "execution_count": 11,
   "metadata": {},
   "outputs": [],
   "source": [
    "\n",
    "#x = [[featuresImage1],[feturesImage2],[feturesImage3]]\n",
    "#y = [0,1,2]\n",
    "def find_param(X, y):\n",
    "    \"\"\"\n",
    "    Creates the w_i vector for the given class.\n",
    "    \n",
    "    Args:\n",
    "      X (ndarray (m,n)    : Data, m examples with n features\n",
    "      y (ndarray (m,))    : Target values\n",
    "      \n",
    "    Returns:\n",
    "      theta_list (ndarray (n,)) : This is a matrix that will hold a row for the w values\n",
    "                                  for every i class. \n",
    "    \"\"\"\n",
    "    alph = 0.1\n",
    "    r_lambda = 0.7\n",
    "    iters = 1000\n",
    "\n",
    "    y_uniq = list(set(y.flatten()))\n",
    "    theta_list = []\n",
    "    for i in y_uniq:\n",
    "        w_in = np.random.rand(X.shape[1])\n",
    "        b_in = 0.5\n",
    "\n",
    "        y_tr = pd.Series(y_change(y, i))\n",
    "        # y_tr = y_tr[:, np.newaxis]\n",
    "        np.array(y_tr)[:, np.newaxis]\n",
    "        print(f\"\\n\\nWe will find the weights for class: {i}\")\n",
    "        theta1, _ , _ = gradient_descent(X, y_tr, w_in, b_in, alph, r_lambda, iters) \n",
    "        theta_list.append(theta1)\n",
    "    return theta_list"
   ]
  },
  {
   "attachments": {},
   "cell_type": "markdown",
   "metadata": {},
   "source": [
    "Finally, we will create a function that should give us the proper class for every entry."
   ]
  },
  {
   "cell_type": "code",
   "execution_count": 12,
   "metadata": {},
   "outputs": [],
   "source": [
    "def predict(theta_list, X, y):\n",
    "\n",
    "    y_uniq = list(set(y.flatten()))\n",
    "    y_hat = [0]*len(y)\n",
    "    for i in range(0, len(y_uniq)):\n",
    "        y_tr = y_change(y, y_uniq[i])\n",
    "        # y1 = sigmoid(x, theta_list[i])\n",
    "        y1 = sigmoid(np.dot(X, theta_list[i]))\n",
    "        for k in range(0, len(y)):\n",
    "\n",
    "            if y_tr[k] == 1 and y1[0] >= 0.2:\n",
    "                y_hat[k] = y_uniq[i]\n",
    "\n",
    "    return y_hat"
   ]
  },
  {
   "cell_type": "code",
   "execution_count": 13,
   "metadata": {},
   "outputs": [],
   "source": [
    "#load images\n",
    "labels = ['Cubism', 'Graffiti', 'PopArt']\n",
    "#features\n",
    "x_train = []\n",
    "#labels\n",
    "y_train = []\n",
    "norm = 0\n",
    "with open(\"ImagesData.csv\", 'r') as file:\n",
    "    csv_reader = csv.reader(file)\n",
    "    flag = True\n",
    "    flagNorm = True\n",
    "    \n",
    "    for row in csv_reader:\n",
    "        if(flag):\n",
    "            flag = False\n",
    "            continue\n",
    "        if(row == []):\n",
    "            continue\n",
    "        x = np.array(ast.literal_eval(row[2]))\n",
    "        # x+=1\n",
    "        # x = np.log10(x)+1\n",
    "        #norm = np.linalg.norm(x)\n",
    "        if(flagNorm):\n",
    "            flagNorm = False\n",
    "            norm = np.linalg.norm(x)\n",
    "        \n",
    "        x_train.append(x/norm)\n",
    "        if(row[1] == 'Cubism'):\n",
    "            y_train.append(0)\n",
    "        if(row[1] == 'Graffiti'):\n",
    "            y_train.append(1)\n",
    "        if(row[1] == 'PopArt'):\n",
    "            y_train.append(2)\n",
    "y_train = np.array(y_train)\n",
    "x_train = np.array(x_train)\n",
    "pass\n"
   ]
  },
  {
   "attachments": {},
   "cell_type": "markdown",
   "metadata": {},
   "source": [
    "Let's test it. First, we will create the list of our weights for each class."
   ]
  },
  {
   "cell_type": "code",
   "execution_count": 14,
   "metadata": {},
   "outputs": [
    {
     "name": "stdout",
     "output_type": "stream",
     "text": [
      "\n",
      "\n",
      "We will find the weights for class: 0\n",
      "Iteration    0: Cost 1.325208878053607   \n",
      "Iteration  100: Cost 0.753579738845259   \n",
      "Iteration  200: Cost 0.7500204319388691   \n",
      "Iteration  300: Cost 0.7465893051968648   \n",
      "Iteration  400: Cost 0.7432732485089175   \n",
      "Iteration  500: Cost 0.7400669023596756   \n",
      "Iteration  600: Cost 0.7369652057492613   \n",
      "Iteration  700: Cost 0.7339633797506057   \n",
      "Iteration  800: Cost 0.7310569118004402   \n",
      "Iteration  900: Cost 0.7282415406292574   \n",
      "\n",
      "\n",
      "We will find the weights for class: 1\n",
      "Iteration    0: Cost 1.1454408621424363   \n",
      "Iteration  100: Cost 0.7615949753875837   \n",
      "Iteration  200: Cost 0.7591164848393396   \n",
      "Iteration  300: Cost 0.7566914737643587   \n",
      "Iteration  400: Cost 0.754314320127904   \n",
      "Iteration  500: Cost 0.7519840279094883   \n",
      "Iteration  600: Cost 0.7496996251261648   \n",
      "Iteration  700: Cost 0.7474601629795863   \n",
      "Iteration  800: Cost 0.7452647151230061   \n",
      "Iteration  900: Cost 0.7431123769606701   \n",
      "\n",
      "\n",
      "We will find the weights for class: 2\n",
      "Iteration    0: Cost 1.324921830165283   \n",
      "Iteration  100: Cost 0.7551191526086227   \n",
      "Iteration  200: Cost 0.7501233702774426   \n",
      "Iteration  300: Cost 0.7453550977217671   \n",
      "Iteration  400: Cost 0.7407958878339953   \n",
      "Iteration  500: Cost 0.7364338262167808   \n",
      "Iteration  600: Cost 0.7322577287141312   \n",
      "Iteration  700: Cost 0.7282571038613789   \n",
      "Iteration  800: Cost 0.724422115494123   \n",
      "Iteration  900: Cost 0.7207435458815142   \n"
     ]
    }
   ],
   "source": [
    "\n",
    "theta_list = find_param(x_train, y_train)\n"
   ]
  },
  {
   "cell_type": "code",
   "execution_count": 35,
   "metadata": {},
   "outputs": [],
   "source": [
    "f = open(\"data.py\", \"w\")\n",
    "f.write(\"import numpy as np\\n\")\n",
    "f.write(\"norm = \"+str(norm)+\"\\n\")\n",
    "f.write(\"theta_list = \"+str(theta_list).replace(\"array\",\"np.array\"))\n",
    "f.close()"
   ]
  },
  {
   "cell_type": "code",
   "execution_count": null,
   "metadata": {},
   "outputs": [],
   "source": []
  },
  {
   "attachments": {},
   "cell_type": "markdown",
   "metadata": {},
   "source": [
    "Now that we have it, we can run our prediction."
   ]
  },
  {
   "cell_type": "code",
   "execution_count": 15,
   "metadata": {},
   "outputs": [],
   "source": [
    "#original\n",
    "# y_hat = predict(theta_list, x_train, y_train)\n",
    "# def predict2(theta_list, X, y):\n",
    "\n",
    "#     y_uniq = list(set(y.flatten()))\n",
    "#     y_hat = [0]*len(y)\n",
    "#     for i in range(0, len(y_uniq)):\n",
    "#         y_tr = y_change(y, y_uniq[i])\n",
    "#         # y1 = sigmoid(x, theta_list[i])\n",
    "#         y1 = sigmoid(np.dot(X, theta_list[i]))\n",
    "#         for k in range(0, len(y)):\n",
    "\n",
    "#             if y_tr[k] == 1 and y1[0] >= 0.2:\n",
    "#                 y_hat[k] = y_uniq[i]\n",
    "\n",
    "#     return y_hat\n",
    "def predict2(theta_list, X):\n",
    "    y_hat = 0\n",
    "    y1 = sigmoid(np.dot(X, theta_list))\n",
    "    y_hat = y1[0]\n",
    "    return y1[0]"
   ]
  },
  {
   "cell_type": "code",
   "execution_count": 16,
   "metadata": {},
   "outputs": [
    {
     "name": "stdout",
     "output_type": "stream",
     "text": [
      "mean0:  0.4520042526707984\n",
      "mean1:  0.4665208558603517\n",
      "mean2:  0.43916643627230495\n",
      "y_hat1: 0.3341056104431478\n",
      "y_hat2: 0.41099875195838437\n",
      "y_hat3: 0.6600940447402058\n"
     ]
    }
   ],
   "source": [
    "#intentar predecir\n",
    "\n",
    "image = cv2.imread(\".\\Testing\\Extras\\gray.png\")\n",
    "features = np.array([getFeatures(image)])\n",
    "\n",
    "# ximage = np.array([features/norm,features/norm,features/norm])\n",
    "ximage = np.array(features/norm)\n",
    "# Cubism = 0\n",
    "# Graffiti = 1\n",
    "# PopArt = 2\n",
    "\n",
    "yimage = np.array([0,1,2])\n",
    "        # if(row[1] == 'Cubism'):\n",
    "        #     y_train.append(0)\n",
    "        # if(row[1] == 'Graffiti'):\n",
    "        #     y_train.append(1)\n",
    "        # if(row[1] == 'PopArt'):\n",
    "        #     y_train.append(2)\n",
    "y_hat1 = predict2(theta_list[0], ximage)\n",
    "y_hat2 = predict2(theta_list[1], ximage)\n",
    "y_hat3 = predict2(theta_list[2], ximage)\n",
    "# y_hat = predict(theta_list, ximage, yimage)\n",
    "print(\"mean0: \",np.mean(theta_list[0]))\n",
    "print(\"mean1: \",np.mean(theta_list[1]))\n",
    "print(\"mean2: \",np.mean(theta_list[2]))\n",
    "print(\"y_hat1:\",y_hat1)\n",
    "print(\"y_hat2:\",y_hat2)\n",
    "print(\"y_hat3:\",y_hat3)\n",
    "\n",
    "pass"
   ]
  },
  {
   "cell_type": "code",
   "execution_count": 17,
   "metadata": {},
   "outputs": [
    {
     "ename": "NameError",
     "evalue": "name 'y_hat' is not defined",
     "output_type": "error",
     "traceback": [
      "\u001b[1;31m---------------------------------------------------------------------------\u001b[0m",
      "\u001b[1;31mNameError\u001b[0m                                 Traceback (most recent call last)",
      "Cell \u001b[1;32mIn[17], line 1\u001b[0m\n\u001b[1;32m----> 1\u001b[0m y_hat\n",
      "\u001b[1;31mNameError\u001b[0m: name 'y_hat' is not defined"
     ]
    }
   ],
   "source": [
    "y_hat"
   ]
  },
  {
   "attachments": {},
   "cell_type": "markdown",
   "metadata": {},
   "source": [
    "We can now even observe the results."
   ]
  },
  {
   "cell_type": "code",
   "execution_count": 18,
   "metadata": {},
   "outputs": [
    {
     "ename": "NameError",
     "evalue": "name 'y_hat' is not defined",
     "output_type": "error",
     "traceback": [
      "\u001b[1;31m---------------------------------------------------------------------------\u001b[0m",
      "\u001b[1;31mNameError\u001b[0m                                 Traceback (most recent call last)",
      "Cell \u001b[1;32mIn[18], line 5\u001b[0m\n\u001b[0;32m      3\u001b[0m c \u001b[39m=\u001b[39m [i \u001b[39mfor\u001b[39;00m i \u001b[39min\u001b[39;00m \u001b[39mrange\u001b[39m (\u001b[39m1\u001b[39m,\u001b[39mlen\u001b[39m(y_train)\u001b[39m+\u001b[39m\u001b[39m1\u001b[39m,\u001b[39m1\u001b[39m)]\n\u001b[0;32m      4\u001b[0m plt\u001b[39m.\u001b[39mplot(c,y_train,color\u001b[39m=\u001b[39m\u001b[39m'\u001b[39m\u001b[39mr\u001b[39m\u001b[39m'\u001b[39m,linestyle\u001b[39m=\u001b[39m\u001b[39m'\u001b[39m\u001b[39m-\u001b[39m\u001b[39m'\u001b[39m)\n\u001b[1;32m----> 5\u001b[0m plt\u001b[39m.\u001b[39mplot(c,y_hat,color\u001b[39m=\u001b[39m\u001b[39m'\u001b[39m\u001b[39mb\u001b[39m\u001b[39m'\u001b[39m,linestyle\u001b[39m=\u001b[39m\u001b[39m'\u001b[39m\u001b[39m-\u001b[39m\u001b[39m'\u001b[39m)\n\u001b[0;32m      6\u001b[0m plt\u001b[39m.\u001b[39mxlabel(\u001b[39m'\u001b[39m\u001b[39mValue\u001b[39m\u001b[39m'\u001b[39m)\n\u001b[0;32m      7\u001b[0m plt\u001b[39m.\u001b[39mylabel(\u001b[39m'\u001b[39m\u001b[39mClass\u001b[39m\u001b[39m'\u001b[39m)\n",
      "\u001b[1;31mNameError\u001b[0m: name 'y_hat' is not defined"
     ]
    },
    {
     "data": {
      "application/vnd.jupyter.widget-view+json": {
       "model_id": "6fef3abd0e9741d490fd17ae6bf635cd",
       "version_major": 2,
       "version_minor": 0
      },
      "image/png": "[encoded data removed]",
      "text/html": [
       "\n",
       "            <div style=\"display: inline-block;\">\n",
       "                <div class=\"jupyter-widgets widget-label\" style=\"text-align: center;\">\n",
       "                    Figure\n",
       "                </div>\n",
       "                <img src='data:image/png;base64,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' width=640.0/>\n",
       "            </div>\n",
       "        "
      ],
      "text/plain": [
       "Canvas(toolbar=Toolbar(toolitems=[('Home', 'Reset original view', 'home', 'home'), ('Back', 'Back to previous …"
      ]
     },
     "metadata": {},
     "output_type": "display_data"
    }
   ],
   "source": [
    "#Plotting the actual and predicted values\n",
    "f1 = plt.figure()\n",
    "c = [i for i in range (1,len(y_train)+1,1)]\n",
    "plt.plot(c,y_train,color='r',linestyle='-')\n",
    "plt.plot(c,y_hat,color='b',linestyle='-')\n",
    "plt.xlabel('Value')\n",
    "plt.ylabel('Class')\n",
    "plt.title('Actual vs. Predicted')\n",
    "plt.show()"
   ]
  },
  {
   "cell_type": "code",
   "execution_count": 19,
   "metadata": {},
   "outputs": [
    {
     "ename": "NameError",
     "evalue": "name 'y_hat' is not defined",
     "output_type": "error",
     "traceback": [
      "\u001b[1;31m---------------------------------------------------------------------------\u001b[0m",
      "\u001b[1;31mNameError\u001b[0m                                 Traceback (most recent call last)",
      "Cell \u001b[1;32mIn[19], line 4\u001b[0m\n\u001b[0;32m      2\u001b[0m f1 \u001b[39m=\u001b[39m plt\u001b[39m.\u001b[39mfigure()\n\u001b[0;32m      3\u001b[0m c \u001b[39m=\u001b[39m [i \u001b[39mfor\u001b[39;00m i \u001b[39min\u001b[39;00m \u001b[39mrange\u001b[39m(\u001b[39m1\u001b[39m,\u001b[39mlen\u001b[39m(y_train)\u001b[39m+\u001b[39m\u001b[39m1\u001b[39m,\u001b[39m1\u001b[39m)]\n\u001b[1;32m----> 4\u001b[0m plt\u001b[39m.\u001b[39mplot(c,y_train\u001b[39m-\u001b[39my_hat,color\u001b[39m=\u001b[39m\u001b[39m'\u001b[39m\u001b[39mgreen\u001b[39m\u001b[39m'\u001b[39m,linestyle\u001b[39m=\u001b[39m\u001b[39m'\u001b[39m\u001b[39m-\u001b[39m\u001b[39m'\u001b[39m)\n\u001b[0;32m      5\u001b[0m plt\u001b[39m.\u001b[39mxlabel(\u001b[39m'\u001b[39m\u001b[39mindex\u001b[39m\u001b[39m'\u001b[39m)\n\u001b[0;32m      6\u001b[0m plt\u001b[39m.\u001b[39mylabel(\u001b[39m'\u001b[39m\u001b[39mError\u001b[39m\u001b[39m'\u001b[39m)\n",
      "\u001b[1;31mNameError\u001b[0m: name 'y_hat' is not defined"
     ]
    },
    {
     "data": {
      "application/vnd.jupyter.widget-view+json": {
       "model_id": "fd36ee22809342f7b239fc1c0ca46067",
       "version_major": 2,
       "version_minor": 0
      },
      "image/png": "[encoded data removed]",
      "text/html": [
       "\n",
       "            <div style=\"display: inline-block;\">\n",
       "                <div class=\"jupyter-widgets widget-label\" style=\"text-align: center;\">\n",
       "                    Figure\n",
       "                </div>\n",
       "                <img src='data:image/png;base64,iVBORw0KGgoAAAANSUhEUgAAAoAAAAHgCAYAAAA10dzkAAAAOXRFWHRTb2Z0d2FyZQBNYXRwbG90bGliIHZlcnNpb24zLjcuMCwgaHR0cHM6Ly9tYXRwbG90bGliLm9yZy88F64QAAAACXBIWXMAAA9hAAAPYQGoP6dpAAAIyUlEQVR4nO3WMQEAIAzAMMC/5+ECjiYKenbPzCwAADLO7wAAAN4ygAAAMQYQACDGAAIAxBhAAIAYAwgAEGMAAQBiDCAAQIwBBACIMYAAADEGEAAgxgACAMQYQACAGAMIABBjAAEAYgwgAECMAQQAiDGAAAAxBhAAIMYAAgDEGEAAgBgDCAAQYwABAGIMIABAjAEEAIgxgAAAMQYQACDGAAIAxBhAAIAYAwgAEGMAAQBiDCAAQIwBBACIMYAAADEGEAAgxgACAMQYQACAGAMIABBjAAEAYgwgAECMAQQAiDGAAAAxBhAAIMYAAgDEGEAAgBgDCAAQYwABAGIMIABAjAEEAIgxgAAAMQYQACDGAAIAxBhAAIAYAwgAEGMAAQBiDCAAQIwBBACIMYAAADEGEAAgxgACAMQYQACAGAMIABBjAAEAYgwgAECMAQQAiDGAAAAxBhAAIMYAAgDEGEAAgBgDCAAQYwABAGIMIABAjAEEAIgxgAAAMQYQACDGAAIAxBhAAIAYAwgAEGMAAQBiDCAAQIwBBACIMYAAADEGEAAgxgACAMQYQACAGAMIABBjAAEAYgwgAECMAQQAiDGAAAAxBhAAIMYAAgDEGEAAgBgDCAAQYwABAGIMIABAjAEEAIgxgAAAMQYQACDGAAIAxBhAAIAYAwgAEGMAAQBiDCAAQIwBBACIMYAAADEGEAAgxgACAMQYQACAGAMIABBjAAEAYgwgAECMAQQAiDGAAAAxBhAAIMYAAgDEGEAAgBgDCAAQYwABAGIMIABAjAEEAIgxgAAAMQYQACDGAAIAxBhAAIAYAwgAEGMAAQBiDCAAQIwBBACIMYAAADEGEAAgxgACAMQYQACAGAMIABBjAAEAYgwgAECMAQQAiDGAAAAxBhAAIMYAAgDEGEAAgBgDCAAQYwABAGIMIABAjAEEAIgxgAAAMQYQACDGAAIAxBhAAIAYAwgAEGMAAQBiDCAAQIwBBACIMYAAADEGEAAgxgACAMQYQACAGAMIABBjAAEAYgwgAECMAQQAiDGAAAAxBhAAIMYAAgDEGEAAgBgDCAAQYwABAGIMIABAjAEEAIgxgAAAMQYQACDGAAIAxBhAAIAYAwgAEGMAAQBiDCAAQIwBBACIMYAAADEGEAAgxgACAMQYQACAGAMIABBjAAEAYgwgAECMAQQAiDGAAAAxBhAAIMYAAgDEGEAAgBgDCAAQYwABAGIMIABAjAEEAIgxgAAAMQYQACDGAAIAxBhAAIAYAwgAEGMAAQBiDCAAQIwBBACIMYAAADEGEAAgxgACAMQYQACAGAMIABBjAAEAYgwgAECMAQQAiDGAAAAxBhAAIMYAAgDEGEAAgBgDCAAQYwABAGIMIABAjAEEAIgxgAAAMQYQACDGAAIAxBhAAIAYAwgAEGMAAQBiDCAAQIwBBACIMYAAADEGEAAgxgACAMQYQACAGAMIABBjAAEAYgwgAECMAQQAiDGAAAAxBhAAIMYAAgDEGEAAgBgDCAAQYwABAGIMIABAjAEEAIgxgAAAMQYQACDGAAIAxBhAAIAYAwgAEGMAAQBiDCAAQIwBBACIMYAAADEGEAAgxgACAMQYQACAGAMIABBjAAEAYgwgAECMAQQAiDGAAAAxBhAAIMYAAgDEGEAAgBgDCAAQYwABAGIMIABAjAEEAIgxgAAAMQYQACDGAAIAxBhAAIAYAwgAEGMAAQBiDCAAQIwBBACIMYAAADEGEAAgxgACAMQYQACAGAMIABBjAAEAYgwgAECMAQQAiDGAAAAxBhAAIMYAAgDEGEAAgBgDCAAQYwABAGIMIABAjAEEAIgxgAAAMQYQACDGAAIAxBhAAIAYAwgAEGMAAQBiDCAAQIwBBACIMYAAADEGEAAgxgACAMQYQACAGAMIABBjAAEAYgwgAECMAQQAiDGAAAAxBhAAIMYAAgDEGEAAgBgDCAAQYwABAGIMIABAjAEEAIgxgAAAMQYQACDGAAIAxBhAAIAYAwgAEGMAAQBiDCAAQIwBBACIMYAAADEGEAAgxgACAMQYQACAGAMIABBjAAEAYgwgAECMAQQAiDGAAAAxBhAAIMYAAgDEGEAAgBgDCAAQYwABAGIMIABAjAEEAIgxgAAAMQYQACDGAAIAxBhAAIAYAwgAEGMAAQBiDCAAQIwBBACIMYAAADEGEAAgxgACAMQYQACAGAMIABBjAAEAYgwgAECMAQQAiDGAAAAxBhAAIMYAAgDEGEAAgBgDCAAQYwABAGIMIABAjAEEAIgxgAAAMQYQACDGAAIAxBhAAIAYAwgAEGMAAQBiDCAAQIwBBACIMYAAADEGEAAgxgACAMQYQACAGAMIABBjAAEAYgwgAECMAQQAiDGAAAAxBhAAIMYAAgDEGEAAgBgDCAAQYwABAGIMIABAjAEEAIgxgAAAMQYQACDGAAIAxBhAAIAYAwgAEGMAAQBiDCAAQIwBBACIMYAAADEGEAAgxgACAMQYQACAGAMIABBjAAEAYgwgAECMAQQAiDGAAAAxBhAAIMYAAgDEGEAAgBgDCAAQYwABAGIMIABAjAEEAIgxgAAAMQYQACDGAAIAxBhAAIAYAwgAEGMAAQBiDCAAQIwBBACIMYAAADEGEAAgxgACAMQYQACAGAMIABBjAAEAYgwgAECMAQQAiDGAAAAxBhAAIMYAAgDEGEAAgBgDCAAQYwABAGIMIABAjAEEAIgxgAAAMQYQACDGAAIAxBhAAIAYAwgAEGMAAQBiDCAAQIwBBACIMYAAADEGEAAgxgACAMQYQACAGAMIABBjAAEAYgwgAECMAQQAiDGAAAAxBhAAIMYAAgDEGEAAgBgDCAAQYwABAGIMIABAjAEEAIgxgAAAMQYQACDGAAIAxBhAAIAYAwgAEGMAAQBiDCAAQIwBBACIMYAAADEGEAAgxgACAMQYQACAGAMIABBjAAEAYgwgAECMAQQAiDGAAAAxBhAAIMYAAgDEGEAAgBgDCAAQYwABAGIuJnkHvKensmIAAAAASUVORK5CYII=' width=640.0/>\n",
       "            </div>\n",
       "        "
      ],
      "text/plain": [
       "Canvas(toolbar=Toolbar(toolitems=[('Home', 'Reset original view', 'home', 'home'), ('Back', 'Back to previous …"
      ]
     },
     "metadata": {},
     "output_type": "display_data"
    }
   ],
   "source": [
    "#Plotting the error\n",
    "f1 = plt.figure()\n",
    "c = [i for i in range(1,len(y_train)+1,1)]\n",
    "plt.plot(c,y_train-y_hat,color='green',linestyle='-')\n",
    "plt.xlabel('index')\n",
    "plt.ylabel('Error')\n",
    "plt.title('Error Value')\n",
    "plt.show()"
   ]
  }
 ],
 "metadata": {
  "kernelspec": {
   "display_name": "Python 3",
   "language": "python",
   "name": "python3"
  },
  "language_info": {
   "codemirror_mode": {
    "name": "ipython",
    "version": 3
   },
   "file_extension": ".py",
   "mimetype": "text/x-python",
   "name": "python",
   "nbconvert_exporter": "python",
   "pygments_lexer": "ipython3",
   "version": "3.10.11"
  },
  "orig_nbformat": 4,
  "vscode": {
   "interpreter": {
    "hash": "b9bdc8dfd31f5bdb49a4cf81fecf0a6af785e5a83b57dc1bff2fdf3368924b8c"
   }
  }
 },
 "nbformat": 4,
 "nbformat_minor": 2
}
